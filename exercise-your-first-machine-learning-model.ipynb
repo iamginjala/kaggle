{
 "cells": [
  {
   "cell_type": "markdown",
   "id": "b496a29e",
   "metadata": {
    "papermill": {
     "duration": 0.007708,
     "end_time": "2024-05-29T16:55:59.148327",
     "exception": false,
     "start_time": "2024-05-29T16:55:59.140619",
     "status": "completed"
    },
    "tags": []
   },
   "source": [
    "**This notebook is an exercise in the [Introduction to Machine Learning](https://www.kaggle.com/learn/intro-to-machine-learning) course.  You can reference the tutorial at [this link](https://www.kaggle.com/dansbecker/your-first-machine-learning-model).**\n",
    "\n",
    "---\n"
   ]
  },
  {
   "cell_type": "markdown",
   "id": "d952b534",
   "metadata": {
    "papermill": {
     "duration": 0.006608,
     "end_time": "2024-05-29T16:55:59.162303",
     "exception": false,
     "start_time": "2024-05-29T16:55:59.155695",
     "status": "completed"
    },
    "tags": []
   },
   "source": [
    "## Recap\n",
    "So far, you have loaded your data and reviewed it with the following code. Run this cell to set up your coding environment where the previous step left off."
   ]
  },
  {
   "cell_type": "code",
   "execution_count": 1,
   "id": "20922e82",
   "metadata": {
    "execution": {
     "iopub.execute_input": "2024-05-29T16:55:59.179707Z",
     "iopub.status.busy": "2024-05-29T16:55:59.179005Z",
     "iopub.status.idle": "2024-05-29T16:56:01.472534Z",
     "shell.execute_reply": "2024-05-29T16:56:01.470894Z"
    },
    "papermill": {
     "duration": 2.305613,
     "end_time": "2024-05-29T16:56:01.475450",
     "exception": false,
     "start_time": "2024-05-29T16:55:59.169837",
     "status": "completed"
    },
    "tags": []
   },
   "outputs": [
    {
     "name": "stdout",
     "output_type": "stream",
     "text": [
      "Setup Complete\n"
     ]
    }
   ],
   "source": [
    "# Code you have previously used to load data\n",
    "import pandas as pd\n",
    "\n",
    "# Path of the file to read\n",
    "iowa_file_path = '../input/home-data-for-ml-course/train.csv'\n",
    "\n",
    "home_data = pd.read_csv(iowa_file_path)\n",
    "\n",
    "# Set up code checking\n",
    "from learntools.core import binder\n",
    "binder.bind(globals())\n",
    "from learntools.machine_learning.ex3 import *\n",
    "\n",
    "print(\"Setup Complete\")"
   ]
  },
  {
   "cell_type": "markdown",
   "id": "a1307331",
   "metadata": {
    "papermill": {
     "duration": 0.006737,
     "end_time": "2024-05-29T16:56:01.489353",
     "exception": false,
     "start_time": "2024-05-29T16:56:01.482616",
     "status": "completed"
    },
    "tags": []
   },
   "source": [
    "# Exercises\n",
    "\n",
    "## Step 1: Specify Prediction Target\n",
    "Select the target variable, which corresponds to the sales price. Save this to a new variable called `y`. You'll need to print a list of the columns to find the name of the column you need.\n"
   ]
  },
  {
   "cell_type": "code",
   "execution_count": 2,
   "id": "7cfe7099",
   "metadata": {
    "execution": {
     "iopub.execute_input": "2024-05-29T16:56:01.505820Z",
     "iopub.status.busy": "2024-05-29T16:56:01.505102Z",
     "iopub.status.idle": "2024-05-29T16:56:01.514142Z",
     "shell.execute_reply": "2024-05-29T16:56:01.513314Z"
    },
    "papermill": {
     "duration": 0.01984,
     "end_time": "2024-05-29T16:56:01.516592",
     "exception": false,
     "start_time": "2024-05-29T16:56:01.496752",
     "status": "completed"
    },
    "tags": []
   },
   "outputs": [
    {
     "data": {
      "text/plain": [
       "Index(['Id', 'MSSubClass', 'MSZoning', 'LotFrontage', 'LotArea', 'Street',\n",
       "       'Alley', 'LotShape', 'LandContour', 'Utilities', 'LotConfig',\n",
       "       'LandSlope', 'Neighborhood', 'Condition1', 'Condition2', 'BldgType',\n",
       "       'HouseStyle', 'OverallQual', 'OverallCond', 'YearBuilt', 'YearRemodAdd',\n",
       "       'RoofStyle', 'RoofMatl', 'Exterior1st', 'Exterior2nd', 'MasVnrType',\n",
       "       'MasVnrArea', 'ExterQual', 'ExterCond', 'Foundation', 'BsmtQual',\n",
       "       'BsmtCond', 'BsmtExposure', 'BsmtFinType1', 'BsmtFinSF1',\n",
       "       'BsmtFinType2', 'BsmtFinSF2', 'BsmtUnfSF', 'TotalBsmtSF', 'Heating',\n",
       "       'HeatingQC', 'CentralAir', 'Electrical', '1stFlrSF', '2ndFlrSF',\n",
       "       'LowQualFinSF', 'GrLivArea', 'BsmtFullBath', 'BsmtHalfBath', 'FullBath',\n",
       "       'HalfBath', 'BedroomAbvGr', 'KitchenAbvGr', 'KitchenQual',\n",
       "       'TotRmsAbvGrd', 'Functional', 'Fireplaces', 'FireplaceQu', 'GarageType',\n",
       "       'GarageYrBlt', 'GarageFinish', 'GarageCars', 'GarageArea', 'GarageQual',\n",
       "       'GarageCond', 'PavedDrive', 'WoodDeckSF', 'OpenPorchSF',\n",
       "       'EnclosedPorch', '3SsnPorch', 'ScreenPorch', 'PoolArea', 'PoolQC',\n",
       "       'Fence', 'MiscFeature', 'MiscVal', 'MoSold', 'YrSold', 'SaleType',\n",
       "       'SaleCondition', 'SalePrice'],\n",
       "      dtype='object')"
      ]
     },
     "execution_count": 2,
     "metadata": {},
     "output_type": "execute_result"
    }
   ],
   "source": [
    "# print the list of columns in the dataset to find the name of the prediction target\n",
    "home_data.columns"
   ]
  },
  {
   "cell_type": "code",
   "execution_count": 3,
   "id": "978d12a6",
   "metadata": {
    "execution": {
     "iopub.execute_input": "2024-05-29T16:56:01.533003Z",
     "iopub.status.busy": "2024-05-29T16:56:01.532584Z",
     "iopub.status.idle": "2024-05-29T16:56:01.546990Z",
     "shell.execute_reply": "2024-05-29T16:56:01.546003Z"
    },
    "papermill": {
     "duration": 0.025309,
     "end_time": "2024-05-29T16:56:01.549131",
     "exception": false,
     "start_time": "2024-05-29T16:56:01.523822",
     "status": "completed"
    },
    "tags": []
   },
   "outputs": [
    {
     "data": {
      "application/javascript": [
       "parent.postMessage({\"jupyterEvent\": \"custom.exercise_interaction\", \"data\": {\"outcomeType\": 1, \"valueTowardsCompletion\": 0.25, \"interactionType\": 1, \"questionType\": 2, \"questionId\": \"1_SetTarget\", \"learnToolsVersion\": \"0.3.4\", \"failureMessage\": \"\", \"exceptionClass\": \"\", \"trace\": \"\"}}, \"*\")"
      ],
      "text/plain": [
       "<IPython.core.display.Javascript object>"
      ]
     },
     "metadata": {},
     "output_type": "display_data"
    },
    {
     "data": {
      "text/markdown": [
       "<span style=\"color:#33cc33\">Correct</span>"
      ],
      "text/plain": [
       "Correct"
      ]
     },
     "metadata": {},
     "output_type": "display_data"
    }
   ],
   "source": [
    "y = home_data.SalePrice\n",
    "\n",
    "# Check your answer\n",
    "step_1.check()"
   ]
  },
  {
   "cell_type": "code",
   "execution_count": 4,
   "id": "090f6e71",
   "metadata": {
    "collapsed": true,
    "execution": {
     "iopub.execute_input": "2024-05-29T16:56:01.566951Z",
     "iopub.status.busy": "2024-05-29T16:56:01.566237Z",
     "iopub.status.idle": "2024-05-29T16:56:01.570768Z",
     "shell.execute_reply": "2024-05-29T16:56:01.569788Z"
    },
    "jupyter": {
     "outputs_hidden": true
    },
    "papermill": {
     "duration": 0.016452,
     "end_time": "2024-05-29T16:56:01.573163",
     "exception": false,
     "start_time": "2024-05-29T16:56:01.556711",
     "status": "completed"
    },
    "tags": []
   },
   "outputs": [],
   "source": [
    "# The lines below will show you a hint or the solution.\n",
    "# step_1.hint() \n",
    "# step_1.solution()"
   ]
  },
  {
   "cell_type": "markdown",
   "id": "a0b1c668",
   "metadata": {
    "papermill": {
     "duration": 0.007156,
     "end_time": "2024-05-29T16:56:01.587975",
     "exception": false,
     "start_time": "2024-05-29T16:56:01.580819",
     "status": "completed"
    },
    "tags": []
   },
   "source": [
    "## Step 2: Create X\n",
    "Now you will create a DataFrame called `X` holding the predictive features.\n",
    "\n",
    "Since you want only some columns from the original data, you'll first create a list with the names of the columns you want in `X`.\n",
    "\n",
    "You'll use just the following columns in the list (you can copy and paste the whole list to save some typing, though you'll still need to add quotes):\n",
    "  * LotArea\n",
    "  * YearBuilt\n",
    "  * 1stFlrSF\n",
    "  * 2ndFlrSF\n",
    "  * FullBath\n",
    "  * BedroomAbvGr\n",
    "  * TotRmsAbvGrd\n",
    "\n",
    "After you've created that list of features, use it to create the DataFrame that you'll use to fit the model."
   ]
  },
  {
   "cell_type": "code",
   "execution_count": 5,
   "id": "97938351",
   "metadata": {
    "execution": {
     "iopub.execute_input": "2024-05-29T16:56:01.605077Z",
     "iopub.status.busy": "2024-05-29T16:56:01.604655Z",
     "iopub.status.idle": "2024-05-29T16:56:01.618328Z",
     "shell.execute_reply": "2024-05-29T16:56:01.617055Z"
    },
    "papermill": {
     "duration": 0.024952,
     "end_time": "2024-05-29T16:56:01.620792",
     "exception": false,
     "start_time": "2024-05-29T16:56:01.595840",
     "status": "completed"
    },
    "tags": []
   },
   "outputs": [
    {
     "data": {
      "application/javascript": [
       "parent.postMessage({\"jupyterEvent\": \"custom.exercise_interaction\", \"data\": {\"outcomeType\": 1, \"valueTowardsCompletion\": 0.25, \"interactionType\": 1, \"questionType\": 2, \"questionId\": \"2_SelectPredictionData\", \"learnToolsVersion\": \"0.3.4\", \"failureMessage\": \"\", \"exceptionClass\": \"\", \"trace\": \"\"}}, \"*\")"
      ],
      "text/plain": [
       "<IPython.core.display.Javascript object>"
      ]
     },
     "metadata": {},
     "output_type": "display_data"
    },
    {
     "data": {
      "text/markdown": [
       "<span style=\"color:#33cc33\">Correct</span>"
      ],
      "text/plain": [
       "Correct"
      ]
     },
     "metadata": {},
     "output_type": "display_data"
    }
   ],
   "source": [
    "# Create the list of features below\n",
    "feature_names = [\"LotArea\",\"YearBuilt\",\"1stFlrSF\",\"2ndFlrSF\",\"FullBath\",\"BedroomAbvGr\",\"TotRmsAbvGrd\"]\n",
    "\n",
    "# Select data corresponding to features in feature_names\n",
    "X = home_data[feature_names]\n",
    "\n",
    "# Check your answer\n",
    "step_2.check()"
   ]
  },
  {
   "cell_type": "code",
   "execution_count": 6,
   "id": "41626c44",
   "metadata": {
    "collapsed": true,
    "execution": {
     "iopub.execute_input": "2024-05-29T16:56:01.639847Z",
     "iopub.status.busy": "2024-05-29T16:56:01.639454Z",
     "iopub.status.idle": "2024-05-29T16:56:01.644238Z",
     "shell.execute_reply": "2024-05-29T16:56:01.643000Z"
    },
    "jupyter": {
     "outputs_hidden": true
    },
    "papermill": {
     "duration": 0.017992,
     "end_time": "2024-05-29T16:56:01.646756",
     "exception": false,
     "start_time": "2024-05-29T16:56:01.628764",
     "status": "completed"
    },
    "tags": []
   },
   "outputs": [],
   "source": [
    "# step_2.hint()\n",
    "# step_2.solution()"
   ]
  },
  {
   "cell_type": "markdown",
   "id": "7faceffb",
   "metadata": {
    "papermill": {
     "duration": 0.007636,
     "end_time": "2024-05-29T16:56:01.662717",
     "exception": false,
     "start_time": "2024-05-29T16:56:01.655081",
     "status": "completed"
    },
    "tags": []
   },
   "source": [
    "## Review Data\n",
    "Before building a model, take a quick look at **X** to verify it looks sensible"
   ]
  },
  {
   "cell_type": "code",
   "execution_count": 7,
   "id": "e31d338c",
   "metadata": {
    "execution": {
     "iopub.execute_input": "2024-05-29T16:56:01.680408Z",
     "iopub.status.busy": "2024-05-29T16:56:01.680021Z",
     "iopub.status.idle": "2024-05-29T16:56:01.776407Z",
     "shell.execute_reply": "2024-05-29T16:56:01.775007Z"
    },
    "papermill": {
     "duration": 0.108279,
     "end_time": "2024-05-29T16:56:01.779095",
     "exception": false,
     "start_time": "2024-05-29T16:56:01.670816",
     "status": "completed"
    },
    "tags": []
   },
   "outputs": [
    {
     "name": "stdout",
     "output_type": "stream",
     "text": [
      "                 0     1      2     3      4\n",
      "LotArea       8450  9600  11250  9550  14260\n",
      "YearBuilt     2003  1976   2001  1915   2000\n",
      "1stFlrSF       856  1262    920   961   1145\n",
      "2ndFlrSF       854     0    866   756   1053\n",
      "FullBath         2     2      2     1      2\n",
      "BedroomAbvGr     3     3      3     3      4\n",
      "TotRmsAbvGrd     8     6      6     7      9\n"
     ]
    }
   ],
   "source": [
    "# Review data\n",
    "# print description or statistics from X\n",
    "#print(X.describe())\n",
    "\n",
    "# print the top few lines\n",
    "print(X.head().transpose())"
   ]
  },
  {
   "cell_type": "markdown",
   "id": "6709fdb2",
   "metadata": {
    "papermill": {
     "duration": 0.007887,
     "end_time": "2024-05-29T16:56:01.795261",
     "exception": false,
     "start_time": "2024-05-29T16:56:01.787374",
     "status": "completed"
    },
    "tags": []
   },
   "source": [
    "## Step 3: Specify and Fit Model\n",
    "Create a `DecisionTreeRegressor` and save it iowa_model. Ensure you've done the relevant import from sklearn to run this command.\n",
    "\n",
    "Then fit the model you just created using the data in `X` and `y` that you saved above."
   ]
  },
  {
   "cell_type": "code",
   "execution_count": 8,
   "id": "9bb6cc57",
   "metadata": {
    "execution": {
     "iopub.execute_input": "2024-05-29T16:56:01.814609Z",
     "iopub.status.busy": "2024-05-29T16:56:01.814161Z",
     "iopub.status.idle": "2024-05-29T16:56:01.836257Z",
     "shell.execute_reply": "2024-05-29T16:56:01.835270Z"
    },
    "papermill": {
     "duration": 0.034698,
     "end_time": "2024-05-29T16:56:01.838506",
     "exception": false,
     "start_time": "2024-05-29T16:56:01.803808",
     "status": "completed"
    },
    "tags": []
   },
   "outputs": [
    {
     "data": {
      "application/javascript": [
       "parent.postMessage({\"jupyterEvent\": \"custom.exercise_interaction\", \"data\": {\"outcomeType\": 1, \"valueTowardsCompletion\": 0.25, \"interactionType\": 1, \"questionType\": 2, \"questionId\": \"3_CreateModel\", \"learnToolsVersion\": \"0.3.4\", \"failureMessage\": \"\", \"exceptionClass\": \"\", \"trace\": \"\"}}, \"*\")"
      ],
      "text/plain": [
       "<IPython.core.display.Javascript object>"
      ]
     },
     "metadata": {},
     "output_type": "display_data"
    },
    {
     "data": {
      "text/markdown": [
       "<span style=\"color:#33cc33\">Correct</span>"
      ],
      "text/plain": [
       "Correct"
      ]
     },
     "metadata": {},
     "output_type": "display_data"
    }
   ],
   "source": [
    "from sklearn.tree import DecisionTreeRegressor\n",
    "#specify the model. \n",
    "#For model reproducibility, set a numeric value for random_state when specifying the model\n",
    "iowa_model = DecisionTreeRegressor(random_state = 1)\n",
    "\n",
    "# Fit the model\n",
    "iowa_model.fit(X,y)\n",
    "\n",
    "# Check your answer\n",
    "step_3.check()"
   ]
  },
  {
   "cell_type": "code",
   "execution_count": 9,
   "id": "40a33947",
   "metadata": {
    "collapsed": true,
    "execution": {
     "iopub.execute_input": "2024-05-29T16:56:01.857038Z",
     "iopub.status.busy": "2024-05-29T16:56:01.856656Z",
     "iopub.status.idle": "2024-05-29T16:56:01.861623Z",
     "shell.execute_reply": "2024-05-29T16:56:01.860440Z"
    },
    "jupyter": {
     "outputs_hidden": true
    },
    "papermill": {
     "duration": 0.016883,
     "end_time": "2024-05-29T16:56:01.863831",
     "exception": false,
     "start_time": "2024-05-29T16:56:01.846948",
     "status": "completed"
    },
    "tags": []
   },
   "outputs": [],
   "source": [
    "# step_3.hint()\n",
    "# step_3.solution()"
   ]
  },
  {
   "cell_type": "markdown",
   "id": "38c28b50",
   "metadata": {
    "papermill": {
     "duration": 0.007997,
     "end_time": "2024-05-29T16:56:01.880167",
     "exception": false,
     "start_time": "2024-05-29T16:56:01.872170",
     "status": "completed"
    },
    "tags": []
   },
   "source": [
    "## Step 4: Make Predictions\n",
    "Make predictions with the model's `predict` command using `X` as the data. Save the results to a variable called `predictions`."
   ]
  },
  {
   "cell_type": "code",
   "execution_count": 10,
   "id": "e92aca19",
   "metadata": {
    "execution": {
     "iopub.execute_input": "2024-05-29T16:56:01.898707Z",
     "iopub.status.busy": "2024-05-29T16:56:01.898304Z",
     "iopub.status.idle": "2024-05-29T16:56:01.912747Z",
     "shell.execute_reply": "2024-05-29T16:56:01.911682Z"
    },
    "papermill": {
     "duration": 0.026564,
     "end_time": "2024-05-29T16:56:01.915129",
     "exception": false,
     "start_time": "2024-05-29T16:56:01.888565",
     "status": "completed"
    },
    "tags": []
   },
   "outputs": [
    {
     "name": "stdout",
     "output_type": "stream",
     "text": [
      "[208500. 181500. 223500. ... 266500. 142125. 147500.]\n"
     ]
    },
    {
     "data": {
      "application/javascript": [
       "parent.postMessage({\"jupyterEvent\": \"custom.exercise_interaction\", \"data\": {\"outcomeType\": 1, \"valueTowardsCompletion\": 0.25, \"interactionType\": 1, \"questionType\": 2, \"questionId\": \"4_MakePredictions\", \"learnToolsVersion\": \"0.3.4\", \"failureMessage\": \"\", \"exceptionClass\": \"\", \"trace\": \"\"}}, \"*\")"
      ],
      "text/plain": [
       "<IPython.core.display.Javascript object>"
      ]
     },
     "metadata": {},
     "output_type": "display_data"
    },
    {
     "data": {
      "text/markdown": [
       "<span style=\"color:#33cc33\">Correct</span>"
      ],
      "text/plain": [
       "Correct"
      ]
     },
     "metadata": {},
     "output_type": "display_data"
    }
   ],
   "source": [
    "predictions = iowa_model.predict(X)\n",
    "print(predictions)\n",
    "\n",
    "# Check your answer\n",
    "step_4.check()"
   ]
  },
  {
   "cell_type": "code",
   "execution_count": 11,
   "id": "3138d260",
   "metadata": {
    "collapsed": true,
    "execution": {
     "iopub.execute_input": "2024-05-29T16:56:01.934971Z",
     "iopub.status.busy": "2024-05-29T16:56:01.934597Z",
     "iopub.status.idle": "2024-05-29T16:56:01.939982Z",
     "shell.execute_reply": "2024-05-29T16:56:01.937850Z"
    },
    "jupyter": {
     "outputs_hidden": true
    },
    "papermill": {
     "duration": 0.018041,
     "end_time": "2024-05-29T16:56:01.942267",
     "exception": false,
     "start_time": "2024-05-29T16:56:01.924226",
     "status": "completed"
    },
    "tags": []
   },
   "outputs": [],
   "source": [
    "# step_4.hint()\n",
    "# step_4.solution()"
   ]
  },
  {
   "cell_type": "markdown",
   "id": "fe3fb00d",
   "metadata": {
    "papermill": {
     "duration": 0.008837,
     "end_time": "2024-05-29T16:56:01.960526",
     "exception": false,
     "start_time": "2024-05-29T16:56:01.951689",
     "status": "completed"
    },
    "tags": []
   },
   "source": [
    "## Think About Your Results\n",
    "\n",
    "Use the `head` method to compare the top few predictions to the actual home values (in `y`) for those same homes. Anything surprising?\n"
   ]
  },
  {
   "cell_type": "code",
   "execution_count": 12,
   "id": "e136c6f1",
   "metadata": {
    "execution": {
     "iopub.execute_input": "2024-05-29T16:56:01.980743Z",
     "iopub.status.busy": "2024-05-29T16:56:01.980359Z",
     "iopub.status.idle": "2024-05-29T16:56:01.984701Z",
     "shell.execute_reply": "2024-05-29T16:56:01.983558Z"
    },
    "papermill": {
     "duration": 0.017761,
     "end_time": "2024-05-29T16:56:01.987225",
     "exception": false,
     "start_time": "2024-05-29T16:56:01.969464",
     "status": "completed"
    },
    "tags": []
   },
   "outputs": [],
   "source": [
    "# You can write code in this cell\n"
   ]
  },
  {
   "cell_type": "markdown",
   "id": "80921aaf",
   "metadata": {
    "papermill": {
     "duration": 0.009544,
     "end_time": "2024-05-29T16:56:02.006117",
     "exception": false,
     "start_time": "2024-05-29T16:56:01.996573",
     "status": "completed"
    },
    "tags": []
   },
   "source": [
    "It's natural to ask how accurate the model's predictions will be and how you can improve that. That will be you're next step.\n",
    "\n",
    "# Keep Going\n",
    "\n",
    "You are ready for **[Model Validation](https://www.kaggle.com/dansbecker/model-validation).**\n"
   ]
  },
  {
   "cell_type": "markdown",
   "id": "714a1658",
   "metadata": {
    "papermill": {
     "duration": 0.009407,
     "end_time": "2024-05-29T16:56:02.024880",
     "exception": false,
     "start_time": "2024-05-29T16:56:02.015473",
     "status": "completed"
    },
    "tags": []
   },
   "source": [
    "---\n",
    "\n",
    "\n",
    "\n",
    "\n",
    "*Have questions or comments? Visit the [course discussion forum](https://www.kaggle.com/learn/intro-to-machine-learning/discussion) to chat with other learners.*"
   ]
  }
 ],
 "metadata": {
  "kaggle": {
   "accelerator": "none",
   "dataSources": [
    {
     "databundleVersionId": 111096,
     "sourceId": 10211,
     "sourceType": "competition"
    },
    {
     "datasetId": 11167,
     "sourceId": 15520,
     "sourceType": "datasetVersion"
    },
    {
     "datasetId": 2709,
     "sourceId": 38454,
     "sourceType": "datasetVersion"
    }
   ],
   "isGpuEnabled": false,
   "isInternetEnabled": false,
   "language": "python",
   "sourceType": "notebook"
  },
  "kernelspec": {
   "display_name": "Python 3",
   "language": "python",
   "name": "python3"
  },
  "language_info": {
   "codemirror_mode": {
    "name": "ipython",
    "version": 3
   },
   "file_extension": ".py",
   "mimetype": "text/x-python",
   "name": "python",
   "nbconvert_exporter": "python",
   "pygments_lexer": "ipython3",
   "version": "3.10.13"
  },
  "papermill": {
   "default_parameters": {},
   "duration": 6.902716,
   "end_time": "2024-05-29T16:56:02.655466",
   "environment_variables": {},
   "exception": null,
   "input_path": "__notebook__.ipynb",
   "output_path": "__notebook__.ipynb",
   "parameters": {},
   "start_time": "2024-05-29T16:55:55.752750",
   "version": "2.5.0"
  }
 },
 "nbformat": 4,
 "nbformat_minor": 5
}
